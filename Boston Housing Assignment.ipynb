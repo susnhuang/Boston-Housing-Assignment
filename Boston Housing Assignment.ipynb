{
 "cells": [
  {
   "cell_type": "code",
   "execution_count": 1,
   "metadata": {
    "collapsed": true
   },
   "outputs": [],
   "source": [
    "from sklearn import datasets"
   ]
  },
  {
   "cell_type": "code",
   "execution_count": 2,
   "metadata": {
    "collapsed": true
   },
   "outputs": [],
   "source": [
    "import pandas as pd"
   ]
  },
  {
   "cell_type": "code",
   "execution_count": 3,
   "metadata": {
    "collapsed": true
   },
   "outputs": [],
   "source": [
    "from sklearn.preprocessing import StandardScaler"
   ]
  },
  {
   "cell_type": "code",
   "execution_count": 4,
   "metadata": {
    "collapsed": true
   },
   "outputs": [],
   "source": [
    "from sklearn.cross_validation import train_test_split"
   ]
  },
  {
   "cell_type": "code",
   "execution_count": 5,
   "metadata": {
    "collapsed": true
   },
   "outputs": [],
   "source": [
    "from sklearn.metrics import mean_squared_error"
   ]
  },
  {
   "cell_type": "code",
   "execution_count": 6,
   "metadata": {
    "collapsed": true
   },
   "outputs": [],
   "source": [
    "from sklearn.metrics import r2_score"
   ]
  },
  {
   "cell_type": "code",
   "execution_count": 7,
   "metadata": {
    "collapsed": true
   },
   "outputs": [],
   "source": [
    "from sklearn.linear_model import LinearRegression"
   ]
  },
  {
   "cell_type": "code",
   "execution_count": 8,
   "metadata": {
    "collapsed": true
   },
   "outputs": [],
   "source": [
    "bean = datasets.load_boston()"
   ]
  },
  {
   "cell_type": "code",
   "execution_count": 9,
   "metadata": {
    "collapsed": false
   },
   "outputs": [
    {
     "name": "stdout",
     "output_type": "stream",
     "text": [
      "Boston House Prices dataset\n",
      "\n",
      "Notes\n",
      "------\n",
      "Data Set Characteristics:  \n",
      "\n",
      "    :Number of Instances: 506 \n",
      "\n",
      "    :Number of Attributes: 13 numeric/categorical predictive\n",
      "    \n",
      "    :Median Value (attribute 14) is usually the target\n",
      "\n",
      "    :Attribute Information (in order):\n",
      "        - CRIM     per capita crime rate by town\n",
      "        - ZN       proportion of residential land zoned for lots over 25,000 sq.ft.\n",
      "        - INDUS    proportion of non-retail business acres per town\n",
      "        - CHAS     Charles River dummy variable (= 1 if tract bounds river; 0 otherwise)\n",
      "        - NOX      nitric oxides concentration (parts per 10 million)\n",
      "        - RM       average number of rooms per dwelling\n",
      "        - AGE      proportion of owner-occupied units built prior to 1940\n",
      "        - DIS      weighted distances to five Boston employment centres\n",
      "        - RAD      index of accessibility to radial highways\n",
      "        - TAX      full-value property-tax rate per $10,000\n",
      "        - PTRATIO  pupil-teacher ratio by town\n",
      "        - B        1000(Bk - 0.63)^2 where Bk is the proportion of blacks by town\n",
      "        - LSTAT    % lower status of the population\n",
      "        - MEDV     Median value of owner-occupied homes in $1000's\n",
      "\n",
      "    :Missing Attribute Values: None\n",
      "\n",
      "    :Creator: Harrison, D. and Rubinfeld, D.L.\n",
      "\n",
      "This is a copy of UCI ML housing dataset.\n",
      "http://archive.ics.uci.edu/ml/datasets/Housing\n",
      "\n",
      "\n",
      "This dataset was taken from the StatLib library which is maintained at Carnegie Mellon University.\n",
      "\n",
      "The Boston house-price data of Harrison, D. and Rubinfeld, D.L. 'Hedonic\n",
      "prices and the demand for clean air', J. Environ. Economics & Management,\n",
      "vol.5, 81-102, 1978.   Used in Belsley, Kuh & Welsch, 'Regression diagnostics\n",
      "...', Wiley, 1980.   N.B. Various transformations are used in the table on\n",
      "pages 244-261 of the latter.\n",
      "\n",
      "The Boston house-price data has been used in many machine learning papers that address regression\n",
      "problems.   \n",
      "     \n",
      "**References**\n",
      "\n",
      "   - Belsley, Kuh & Welsch, 'Regression diagnostics: Identifying Influential Data and Sources of Collinearity', Wiley, 1980. 244-261.\n",
      "   - Quinlan,R. (1993). Combining Instance-Based and Model-Based Learning. In Proceedings on the Tenth International Conference of Machine Learning, 236-243, University of Massachusetts, Amherst. Morgan Kaufmann.\n",
      "   - many more! (see http://archive.ics.uci.edu/ml/datasets/Housing)\n",
      "\n"
     ]
    }
   ],
   "source": [
    "print bean.DESCR"
   ]
  },
  {
   "cell_type": "code",
   "execution_count": 10,
   "metadata": {
    "collapsed": true
   },
   "outputs": [],
   "source": [
    "def load_boston():\n",
    "    scaler = StandardScaler()\n",
    "    boston = datasets.load_boston()\n",
    "    X=boston.data\n",
    "    y=boston.target\n",
    "    X = scaler.fit_transform(X)\n",
    "    return train_test_split(X,y)"
   ]
  },
  {
   "cell_type": "code",
   "execution_count": 11,
   "metadata": {
    "collapsed": true
   },
   "outputs": [],
   "source": [
    "X_train, X_test, y_train, y_test = load_boston()"
   ]
  },
  {
   "cell_type": "code",
   "execution_count": 12,
   "metadata": {
    "collapsed": false
   },
   "outputs": [
    {
     "data": {
      "text/plain": [
       "(379L, 13L)"
      ]
     },
     "execution_count": 12,
     "metadata": {},
     "output_type": "execute_result"
    }
   ],
   "source": [
    "X_train.shape"
   ]
  },
  {
   "cell_type": "code",
   "execution_count": 13,
   "metadata": {
    "collapsed": true
   },
   "outputs": [],
   "source": [
    "clf = LinearRegression()"
   ]
  },
  {
   "cell_type": "code",
   "execution_count": 14,
   "metadata": {
    "collapsed": false
   },
   "outputs": [
    {
     "data": {
      "text/plain": [
       "LinearRegression(copy_X=True, fit_intercept=True, n_jobs=1, normalize=False)"
      ]
     },
     "execution_count": 14,
     "metadata": {},
     "output_type": "execute_result"
    }
   ],
   "source": [
    "clf.fit(X_train, y_train)"
   ]
  },
  {
   "cell_type": "code",
   "execution_count": 15,
   "metadata": {
    "collapsed": false
   },
   "outputs": [
    {
     "data": {
      "text/plain": [
       "[(10.199999999999999, 16.844124318694739),\n",
       " (22.5, 28.875951962062587),\n",
       " (18.699999999999999, 21.4685346986445),\n",
       " (33.100000000000001, 32.942138220610303),\n",
       " (21.800000000000001, 20.66245714561818),\n",
       " (21.5, 20.958985467956438),\n",
       " (34.600000000000001, 34.836759104412607),\n",
       " (14.199999999999999, 17.611384227133257),\n",
       " (26.199999999999999, 25.020638791407013),\n",
       " (13.300000000000001, 20.537994921245861),\n",
       " (25.199999999999999, 27.25454017849459),\n",
       " (22.899999999999999, 24.828906011936208),\n",
       " (8.5, 15.91755720027351),\n",
       " (23.300000000000001, 26.898544837711967),\n",
       " (20.800000000000001, 17.549950143369834),\n",
       " (17.600000000000001, 16.55471567186764),\n",
       " (25.0, 24.833236367360389),\n",
       " (19.5, 18.042522037976198),\n",
       " (18.899999999999999, 15.4716641749195),\n",
       " (23.100000000000001, 24.353767369696357),\n",
       " (19.300000000000001, 17.761727727689809),\n",
       " (19.100000000000001, 19.477752107969739),\n",
       " (28.699999999999999, 30.642225161891513),\n",
       " (17.100000000000001, 17.498918255010054),\n",
       " (7.4000000000000004, 6.0671532236583552),\n",
       " (9.5999999999999996, 14.747900116555835),\n",
       " (17.699999999999999, 20.011682949477997),\n",
       " (10.9, 18.664050739610264),\n",
       " (21.699999999999999, 22.27626534855132),\n",
       " (17.800000000000001, 23.093846217363858),\n",
       " (20.300000000000001, 22.950673404873253),\n",
       " (23.199999999999999, 27.07210348518964),\n",
       " (29.100000000000001, 31.350565497391372),\n",
       " (50.0, 43.406008759861066),\n",
       " (22.899999999999999, 23.238821731948953),\n",
       " (15.300000000000001, 19.531340274857428),\n",
       " (21.199999999999999, 23.404109760832245),\n",
       " (30.800000000000001, 30.849130727390801),\n",
       " (19.899999999999999, 18.655676916609156),\n",
       " (23.899999999999999, 26.788158298066048),\n",
       " (19.899999999999999, 17.72181131480048),\n",
       " (50.0, 23.548457775837374),\n",
       " (19.699999999999999, 14.196711739605155),\n",
       " (24.800000000000001, 25.963884530001277),\n",
       " (33.799999999999997, 34.508830653545253),\n",
       " (13.800000000000001, 15.643525314108476),\n",
       " (19.5, 16.979529103397589),\n",
       " (32.0, 32.657150643044154),\n",
       " (33.399999999999999, 35.119042213876988),\n",
       " (20.800000000000001, 23.390375622913108),\n",
       " (21.399999999999999, 24.080338606779897),\n",
       " (13.1, 20.111080720490666),\n",
       " (13.800000000000001, 19.72570867267024),\n",
       " (22.800000000000001, 28.066809314886179),\n",
       " (21.100000000000001, 21.132617220807315),\n",
       " (48.799999999999997, 41.051934246030044),\n",
       " (15.4, 18.19547926140983),\n",
       " (22.300000000000001, 27.212403584951776),\n",
       " (14.5, 18.040344574322695),\n",
       " (43.799999999999997, 35.395357534003665),\n",
       " (35.399999999999999, 31.745714716421787),\n",
       " (13.199999999999999, 10.359531038504),\n",
       " (19.600000000000001, 22.33129035322192),\n",
       " (50.0, 24.602403631974365),\n",
       " (22.699999999999999, 21.879708373392049),\n",
       " (25.0, 25.230873926265254),\n",
       " (20.300000000000001, 23.128747566551386),\n",
       " (23.0, 24.028296061718599),\n",
       " (15.6, 13.007144640654561),\n",
       " (14.5, 18.02367354686816),\n",
       " (13.300000000000001, 14.262919555306091),\n",
       " (14.300000000000001, 17.092835532673231),\n",
       " (19.199999999999999, 20.107739401622457),\n",
       " (22.600000000000001, 18.83202633359355),\n",
       " (20.199999999999999, 16.175266100073713),\n",
       " (23.0, 19.99618232263586),\n",
       " (18.0, 19.196043565958572),\n",
       " (21.899999999999999, 38.001355666017794),\n",
       " (50.0, 31.161010585722671),\n",
       " (14.9, 17.682613693858357),\n",
       " (18.899999999999999, 21.914061018530166),\n",
       " (13.4, 13.53887941570086),\n",
       " (11.5, 13.685177531210837),\n",
       " (27.5, 32.153809294293104),\n",
       " (17.0, 22.780139504337971),\n",
       " (15.4, 15.33331317958945),\n",
       " (22.199999999999999, 20.057034427068032),\n",
       " (20.5, 24.186643708265898),\n",
       " (15.6, 15.873359883817795),\n",
       " (25.100000000000001, 30.153641850840664),\n",
       " (23.399999999999999, 24.644463833428553),\n",
       " (33.299999999999997, 36.052859221449495),\n",
       " (8.5, 7.8559781865136262),\n",
       " (37.899999999999999, 33.224882073280632),\n",
       " (21.699999999999999, 24.924540175702273),\n",
       " (48.299999999999997, 37.529424800973885),\n",
       " (23.899999999999999, 27.274735216202618),\n",
       " (11.699999999999999, 15.69880710238138),\n",
       " (25.0, 21.925161132324732),\n",
       " (13.9, 18.236663006087145),\n",
       " (50.0, 40.74363032104398),\n",
       " (19.5, 19.617960478221697),\n",
       " (23.699999999999999, 28.629244602951381),\n",
       " (21.800000000000001, 20.178626647593322),\n",
       " (16.600000000000001, 18.931814564107839),\n",
       " (27.0, 31.791967025626885),\n",
       " (10.4, 7.0870869710504802),\n",
       " (20.899999999999999, 22.057158283728629),\n",
       " (50.0, 37.115480367649653),\n",
       " (21.600000000000001, 25.119272670360481),\n",
       " (14.6, 9.3819677448376986),\n",
       " (50.0, 20.967441949775253),\n",
       " (13.4, 16.899448148050645),\n",
       " (34.899999999999999, 33.815595242074465),\n",
       " (21.699999999999999, 20.643961704938629),\n",
       " (11.800000000000001, 9.5036857835200603),\n",
       " (14.300000000000001, 14.175320304007091),\n",
       " (16.0, 18.752904721107132),\n",
       " (22.100000000000001, 26.239455293501521),\n",
       " (15.0, 13.846189532651225),\n",
       " (19.300000000000001, 21.151924007908324),\n",
       " (11.9, 21.786940676077755),\n",
       " (28.0, 28.45691663178901),\n",
       " (37.600000000000001, 37.442115383407227),\n",
       " (32.399999999999999, 35.726755334215049),\n",
       " (18.199999999999999, 19.214512829901128),\n",
       " (23.800000000000001, 26.034453408108668)]"
      ]
     },
     "execution_count": 15,
     "metadata": {},
     "output_type": "execute_result"
    }
   ],
   "source": [
    "zip (y_test, clf.predict(X_test))"
   ]
  },
  {
   "cell_type": "code",
   "execution_count": 16,
   "metadata": {
    "collapsed": false
   },
   "outputs": [
    {
     "data": {
      "text/plain": [
       "36.322466365447681"
      ]
     },
     "execution_count": 16,
     "metadata": {},
     "output_type": "execute_result"
    }
   ],
   "source": [
    "mean_squared_error(y_test, clf.predict(X_test))"
   ]
  },
  {
   "cell_type": "code",
   "execution_count": 17,
   "metadata": {
    "collapsed": false
   },
   "outputs": [
    {
     "data": {
      "text/plain": [
       "0.63321192734103626"
      ]
     },
     "execution_count": 17,
     "metadata": {},
     "output_type": "execute_result"
    }
   ],
   "source": [
    "r2_score(y_test, clf.predict(X_test))"
   ]
  },
  {
   "cell_type": "code",
   "execution_count": 18,
   "metadata": {
    "collapsed": true
   },
   "outputs": [],
   "source": [
    "import math"
   ]
  },
  {
   "cell_type": "code",
   "execution_count": 19,
   "metadata": {
    "collapsed": false
   },
   "outputs": [
    {
     "data": {
      "text/plain": [
       "6.026812288884372"
      ]
     },
     "execution_count": 19,
     "metadata": {},
     "output_type": "execute_result"
    }
   ],
   "source": [
    "math.sqrt(mean_squared_error(y_test, clf.predict(X_test)))"
   ]
  },
  {
   "cell_type": "code",
   "execution_count": 20,
   "metadata": {
    "collapsed": true
   },
   "outputs": [],
   "source": [
    "from sklearn.linear_model import Ridge"
   ]
  },
  {
   "cell_type": "code",
   "execution_count": 21,
   "metadata": {
    "collapsed": true
   },
   "outputs": [],
   "source": [
    "from sklearn.linear_model import Lasso"
   ]
  },
  {
   "cell_type": "code",
   "execution_count": 23,
   "metadata": {
    "collapsed": false
   },
   "outputs": [
    {
     "data": {
      "text/plain": [
       "LinearRegression(copy_X=True, fit_intercept=True, n_jobs=1, normalize=False)"
      ]
     },
     "execution_count": 23,
     "metadata": {},
     "output_type": "execute_result"
    }
   ],
   "source": [
    "clf.fit(X_test, y_test)"
   ]
  },
  {
   "cell_type": "code",
   "execution_count": 24,
   "metadata": {
    "collapsed": false
   },
   "outputs": [
    {
     "name": "stdout",
     "output_type": "stream",
     "text": [
      "[-1.36071786  1.89974652 -1.39193442  0.24279623 -2.58965186  0.84014799\n",
      "  0.69427273 -6.12544569  3.20096679 -1.35009821 -2.55244311  1.17933713\n",
      " -5.95076627]\n"
     ]
    }
   ],
   "source": [
    "print(clf.coef_)"
   ]
  },
  {
   "cell_type": "code",
   "execution_count": 25,
   "metadata": {
    "collapsed": false
   },
   "outputs": [
    {
     "name": "stdout",
     "output_type": "stream",
     "text": [
      "22.0599727177\n"
     ]
    }
   ],
   "source": [
    "print(clf.intercept_)"
   ]
  },
  {
   "cell_type": "code",
   "execution_count": 27,
   "metadata": {
    "collapsed": false
   },
   "outputs": [
    {
     "data": {
      "text/plain": [
       "26.973552893762758"
      ]
     },
     "execution_count": 27,
     "metadata": {},
     "output_type": "execute_result"
    }
   ],
   "source": [
    "mean_squared_error(y_train, clf.predict(X_train))"
   ]
  },
  {
   "cell_type": "code",
   "execution_count": 28,
   "metadata": {
    "collapsed": false
   },
   "outputs": [
    {
     "data": {
      "text/plain": [
       "0.66072232663409314"
      ]
     },
     "execution_count": 28,
     "metadata": {},
     "output_type": "execute_result"
    }
   ],
   "source": [
    "r2_score(y_train, clf.predict(X_train))"
   ]
  },
  {
   "cell_type": "code",
   "execution_count": 29,
   "metadata": {
    "collapsed": false
   },
   "outputs": [
    {
     "data": {
      "text/plain": [
       "5.193606925226702"
      ]
     },
     "execution_count": 29,
     "metadata": {},
     "output_type": "execute_result"
    }
   ],
   "source": [
    "math.sqrt(mean_squared_error(y_train, clf.predict(X_train)))"
   ]
  },
  {
   "cell_type": "code",
   "execution_count": 30,
   "metadata": {
    "collapsed": false
   },
   "outputs": [
    {
     "data": {
      "text/plain": [
       "LinearRegression(copy_X=True, fit_intercept=True, n_jobs=1, normalize=False)"
      ]
     },
     "execution_count": 30,
     "metadata": {},
     "output_type": "execute_result"
    }
   ],
   "source": [
    "clf.fit(X_train, y_train)"
   ]
  },
  {
   "cell_type": "code",
   "execution_count": 31,
   "metadata": {
    "collapsed": false
   },
   "outputs": [
    {
     "name": "stdout",
     "output_type": "stream",
     "text": [
      "[-0.89398643  0.86128363  0.36740832  0.71337235 -1.84911063  3.13939282\n",
      " -0.27206559 -2.54772862  2.5203812  -2.30455806 -2.0029742   0.82529117\n",
      " -3.0194416 ]\n"
     ]
    }
   ],
   "source": [
    "print(clf.coef_)"
   ]
  },
  {
   "cell_type": "code",
   "execution_count": 32,
   "metadata": {
    "collapsed": false
   },
   "outputs": [
    {
     "name": "stdout",
     "output_type": "stream",
     "text": [
      "22.5752858854\n"
     ]
    }
   ],
   "source": [
    "print(clf.intercept_)"
   ]
  },
  {
   "cell_type": "code",
   "execution_count": null,
   "metadata": {
    "collapsed": true
   },
   "outputs": [],
   "source": []
  }
 ],
 "metadata": {
  "kernelspec": {
   "display_name": "Python 2",
   "language": "python",
   "name": "python2"
  },
  "language_info": {
   "codemirror_mode": {
    "name": "ipython",
    "version": 2
   },
   "file_extension": ".py",
   "mimetype": "text/x-python",
   "name": "python",
   "nbconvert_exporter": "python",
   "pygments_lexer": "ipython2",
   "version": "2.7.10"
  }
 },
 "nbformat": 4,
 "nbformat_minor": 0
}
